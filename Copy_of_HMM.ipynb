{
  "nbformat": 4,
  "nbformat_minor": 0,
  "metadata": {
    "colab": {
      "name": "Copy of HMM.ipynb",
      "provenance": [],
      "collapsed_sections": [],
      "authorship_tag": "ABX9TyMty9hbwXPMGBRFI5aa38Gk",
      "include_colab_link": true
    },
    "kernelspec": {
      "name": "python3",
      "display_name": "Python 3"
    },
    "language_info": {
      "name": "python"
    }
  },
  "cells": [
    {
      "cell_type": "markdown",
      "metadata": {
        "id": "view-in-github",
        "colab_type": "text"
      },
      "source": [
        "<a href=\"https://colab.research.google.com/github/laurentpm/PhD-level-intro-AI-final-project/blob/main/Copy_of_HMM.ipynb\" target=\"_parent\"><img src=\"https://colab.research.google.com/assets/colab-badge.svg\" alt=\"Open In Colab\"/></a>"
      ]
    },
    {
      "cell_type": "code",
      "metadata": {
        "colab": {
          "base_uri": "https://localhost:8080/"
        },
        "id": "rLp0b5DWTW3W",
        "outputId": "8e22d79e-8bc4-476d-9fbb-ebe9fb0f4e88"
      },
      "source": [
        "!pip install hmmlearn"
      ],
      "execution_count": null,
      "outputs": [
        {
          "output_type": "stream",
          "text": [
            "Collecting hmmlearn\n",
            "\u001b[?25l  Downloading https://files.pythonhosted.org/packages/4b/98/a2829aeb942b7146034d497afb3fc738a78a4fbd4797a039c19a94bb31f7/hmmlearn-0.2.5-cp37-cp37m-manylinux1_x86_64.whl (369kB)\n",
            "\u001b[K     |████████████████████████████████| 378kB 4.2MB/s \n",
            "\u001b[?25hRequirement already satisfied: numpy>=1.10 in /usr/local/lib/python3.7/dist-packages (from hmmlearn) (1.19.5)\n",
            "Requirement already satisfied: scipy>=0.19 in /usr/local/lib/python3.7/dist-packages (from hmmlearn) (1.4.1)\n",
            "Requirement already satisfied: scikit-learn>=0.16 in /usr/local/lib/python3.7/dist-packages (from hmmlearn) (0.22.2.post1)\n",
            "Requirement already satisfied: joblib>=0.11 in /usr/local/lib/python3.7/dist-packages (from scikit-learn>=0.16->hmmlearn) (1.0.1)\n",
            "Installing collected packages: hmmlearn\n",
            "Successfully installed hmmlearn-0.2.5\n"
          ],
          "name": "stdout"
        }
      ]
    },
    {
      "cell_type": "code",
      "metadata": {
        "colab": {
          "base_uri": "https://localhost:8080/"
        },
        "id": "ZfAortlBUHw5",
        "outputId": "a581410c-116e-4354-d25f-882084912760"
      },
      "source": [
        "!pip install yfinance"
      ],
      "execution_count": null,
      "outputs": [
        {
          "output_type": "stream",
          "text": [
            "Requirement already satisfied: yfinance in /usr/local/lib/python3.7/dist-packages (0.1.59)\n",
            "Requirement already satisfied: requests>=2.20 in /usr/local/lib/python3.7/dist-packages (from yfinance) (2.23.0)\n",
            "Requirement already satisfied: pandas>=0.24 in /usr/local/lib/python3.7/dist-packages (from yfinance) (1.1.5)\n",
            "Requirement already satisfied: lxml>=4.5.1 in /usr/local/lib/python3.7/dist-packages (from yfinance) (4.6.3)\n",
            "Requirement already satisfied: multitasking>=0.0.7 in /usr/local/lib/python3.7/dist-packages (from yfinance) (0.0.9)\n",
            "Requirement already satisfied: numpy>=1.15 in /usr/local/lib/python3.7/dist-packages (from yfinance) (1.19.5)\n",
            "Requirement already satisfied: idna<3,>=2.5 in /usr/local/lib/python3.7/dist-packages (from requests>=2.20->yfinance) (2.10)\n",
            "Requirement already satisfied: urllib3!=1.25.0,!=1.25.1,<1.26,>=1.21.1 in /usr/local/lib/python3.7/dist-packages (from requests>=2.20->yfinance) (1.24.3)\n",
            "Requirement already satisfied: certifi>=2017.4.17 in /usr/local/lib/python3.7/dist-packages (from requests>=2.20->yfinance) (2021.5.30)\n",
            "Requirement already satisfied: chardet<4,>=3.0.2 in /usr/local/lib/python3.7/dist-packages (from requests>=2.20->yfinance) (3.0.4)\n",
            "Requirement already satisfied: python-dateutil>=2.7.3 in /usr/local/lib/python3.7/dist-packages (from pandas>=0.24->yfinance) (2.8.1)\n",
            "Requirement already satisfied: pytz>=2017.2 in /usr/local/lib/python3.7/dist-packages (from pandas>=0.24->yfinance) (2018.9)\n",
            "Requirement already satisfied: six>=1.5 in /usr/local/lib/python3.7/dist-packages (from python-dateutil>=2.7.3->pandas>=0.24->yfinance) (1.15.0)\n"
          ],
          "name": "stdout"
        }
      ]
    },
    {
      "cell_type": "code",
      "metadata": {
        "id": "xJD2AUMpTQLa"
      },
      "source": [
        "# regime_hmm_train.py\n",
        "\n",
        "from __future__ import print_function\n",
        "\n",
        "import datetime\n",
        "import pickle\n",
        "import warnings\n",
        "\n",
        "from hmmlearn.hmm import GaussianHMM\n",
        "from matplotlib import cm, pyplot as plt\n",
        "from matplotlib.dates import YearLocator, MonthLocator\n",
        "import numpy as np\n",
        "import pandas as pd\n",
        "import seaborn as sns\n"
      ],
      "execution_count": null,
      "outputs": []
    },
    {
      "cell_type": "code",
      "metadata": {
        "id": "Dw11-5FTTTIZ"
      },
      "source": [
        "import yfinance as yf"
      ],
      "execution_count": null,
      "outputs": []
    },
    {
      "cell_type": "code",
      "metadata": {
        "colab": {
          "base_uri": "https://localhost:8080/"
        },
        "id": "CnJfM7C_Unvu",
        "outputId": "3795dd0a-a894-44eb-da19-4efa3d264011"
      },
      "source": [
        "spy_ohlc_df = yf.download('SPY', start='1993-02-01', end='2019-12-01')"
      ],
      "execution_count": null,
      "outputs": [
        {
          "output_type": "stream",
          "text": [
            "\r[*********************100%***********************]  1 of 1 completed\n"
          ],
          "name": "stdout"
        }
      ]
    },
    {
      "cell_type": "code",
      "metadata": {
        "colab": {
          "base_uri": "https://localhost:8080/",
          "height": 477
        },
        "id": "1wmbqpqpbWSa",
        "outputId": "958d5f03-aee9-424d-aa67-88363850b275"
      },
      "source": [
        "spy_ohlc_df"
      ],
      "execution_count": null,
      "outputs": [
        {
          "output_type": "execute_result",
          "data": {
            "text/html": [
              "<div>\n",
              "<style scoped>\n",
              "    .dataframe tbody tr th:only-of-type {\n",
              "        vertical-align: middle;\n",
              "    }\n",
              "\n",
              "    .dataframe tbody tr th {\n",
              "        vertical-align: top;\n",
              "    }\n",
              "\n",
              "    .dataframe thead th {\n",
              "        text-align: right;\n",
              "    }\n",
              "</style>\n",
              "<table border=\"1\" class=\"dataframe\">\n",
              "  <thead>\n",
              "    <tr style=\"text-align: right;\">\n",
              "      <th></th>\n",
              "      <th>Open</th>\n",
              "      <th>High</th>\n",
              "      <th>Low</th>\n",
              "      <th>Close</th>\n",
              "      <th>Adj Close</th>\n",
              "      <th>Volume</th>\n",
              "    </tr>\n",
              "    <tr>\n",
              "      <th>Date</th>\n",
              "      <th></th>\n",
              "      <th></th>\n",
              "      <th></th>\n",
              "      <th></th>\n",
              "      <th></th>\n",
              "      <th></th>\n",
              "    </tr>\n",
              "  </thead>\n",
              "  <tbody>\n",
              "    <tr>\n",
              "      <th>1993-02-01</th>\n",
              "      <td>43.968750</td>\n",
              "      <td>44.250000</td>\n",
              "      <td>43.968750</td>\n",
              "      <td>44.250000</td>\n",
              "      <td>26.068277</td>\n",
              "      <td>480500</td>\n",
              "    </tr>\n",
              "    <tr>\n",
              "      <th>1993-02-02</th>\n",
              "      <td>44.218750</td>\n",
              "      <td>44.375000</td>\n",
              "      <td>44.125000</td>\n",
              "      <td>44.343750</td>\n",
              "      <td>26.123499</td>\n",
              "      <td>201300</td>\n",
              "    </tr>\n",
              "    <tr>\n",
              "      <th>1993-02-03</th>\n",
              "      <td>44.406250</td>\n",
              "      <td>44.843750</td>\n",
              "      <td>44.375000</td>\n",
              "      <td>44.812500</td>\n",
              "      <td>26.399649</td>\n",
              "      <td>529400</td>\n",
              "    </tr>\n",
              "    <tr>\n",
              "      <th>1993-02-04</th>\n",
              "      <td>44.968750</td>\n",
              "      <td>45.093750</td>\n",
              "      <td>44.468750</td>\n",
              "      <td>45.000000</td>\n",
              "      <td>26.510111</td>\n",
              "      <td>531500</td>\n",
              "    </tr>\n",
              "    <tr>\n",
              "      <th>1993-02-05</th>\n",
              "      <td>44.968750</td>\n",
              "      <td>45.062500</td>\n",
              "      <td>44.718750</td>\n",
              "      <td>44.968750</td>\n",
              "      <td>26.491711</td>\n",
              "      <td>492100</td>\n",
              "    </tr>\n",
              "    <tr>\n",
              "      <th>...</th>\n",
              "      <td>...</td>\n",
              "      <td>...</td>\n",
              "      <td>...</td>\n",
              "      <td>...</td>\n",
              "      <td>...</td>\n",
              "      <td>...</td>\n",
              "    </tr>\n",
              "    <tr>\n",
              "      <th>2019-11-22</th>\n",
              "      <td>311.089996</td>\n",
              "      <td>311.239990</td>\n",
              "      <td>309.850006</td>\n",
              "      <td>310.959991</td>\n",
              "      <td>302.774231</td>\n",
              "      <td>44850200</td>\n",
              "    </tr>\n",
              "    <tr>\n",
              "      <th>2019-11-25</th>\n",
              "      <td>311.980011</td>\n",
              "      <td>313.369995</td>\n",
              "      <td>311.980011</td>\n",
              "      <td>313.369995</td>\n",
              "      <td>305.120789</td>\n",
              "      <td>48647200</td>\n",
              "    </tr>\n",
              "    <tr>\n",
              "      <th>2019-11-26</th>\n",
              "      <td>313.410004</td>\n",
              "      <td>314.279999</td>\n",
              "      <td>313.059998</td>\n",
              "      <td>314.079987</td>\n",
              "      <td>305.812073</td>\n",
              "      <td>37569000</td>\n",
              "    </tr>\n",
              "    <tr>\n",
              "      <th>2019-11-27</th>\n",
              "      <td>314.609985</td>\n",
              "      <td>315.480011</td>\n",
              "      <td>314.369995</td>\n",
              "      <td>315.480011</td>\n",
              "      <td>307.175262</td>\n",
              "      <td>44444600</td>\n",
              "    </tr>\n",
              "    <tr>\n",
              "      <th>2019-11-29</th>\n",
              "      <td>314.859985</td>\n",
              "      <td>315.130005</td>\n",
              "      <td>314.059998</td>\n",
              "      <td>314.309998</td>\n",
              "      <td>306.036011</td>\n",
              "      <td>36592700</td>\n",
              "    </tr>\n",
              "  </tbody>\n",
              "</table>\n",
              "<p>6758 rows × 6 columns</p>\n",
              "</div>"
            ],
            "text/plain": [
              "                  Open        High  ...   Adj Close    Volume\n",
              "Date                                ...                      \n",
              "1993-02-01   43.968750   44.250000  ...   26.068277    480500\n",
              "1993-02-02   44.218750   44.375000  ...   26.123499    201300\n",
              "1993-02-03   44.406250   44.843750  ...   26.399649    529400\n",
              "1993-02-04   44.968750   45.093750  ...   26.510111    531500\n",
              "1993-02-05   44.968750   45.062500  ...   26.491711    492100\n",
              "...                ...         ...  ...         ...       ...\n",
              "2019-11-22  311.089996  311.239990  ...  302.774231  44850200\n",
              "2019-11-25  311.980011  313.369995  ...  305.120789  48647200\n",
              "2019-11-26  313.410004  314.279999  ...  305.812073  37569000\n",
              "2019-11-27  314.609985  315.480011  ...  307.175262  44444600\n",
              "2019-11-29  314.859985  315.130005  ...  306.036011  36592700\n",
              "\n",
              "[6758 rows x 6 columns]"
            ]
          },
          "metadata": {
            "tags": []
          },
          "execution_count": 27
        }
      ]
    },
    {
      "cell_type": "code",
      "metadata": {
        "id": "bUsp8-tCVIiV"
      },
      "source": [
        "spy_ohlc_df.to_csv('SPY.csv')"
      ],
      "execution_count": null,
      "outputs": []
    },
    {
      "cell_type": "code",
      "metadata": {
        "id": "kMhKgyOuUBFk"
      },
      "source": [
        "def obtain_prices_df(csv_filepath, end_date):\n",
        "    \"\"\"\n",
        "    Obtain the prices DataFrame from the CSV file,\n",
        "    filter by the end date and calculate the \n",
        "    percentage returns.\n",
        "    \"\"\"\n",
        "    df = pd.read_csv(\n",
        "        csv_filepath, header=0,\n",
        "        names=[\n",
        "            \"Date\", \"Open\", \"High\", \"Low\", \n",
        "            \"Close\", \"Adj Close\", \"Volume\"\n",
        "        ],\n",
        "        index_col=\"Date\", parse_dates=True\n",
        "    )\n",
        "    df[\"Returns\"] = df[\"Adj Close\"].pct_change()\n",
        "    df = df[:end_date.strftime(\"%Y-%m-%d\")]\n",
        "    df.dropna(inplace=True)\n",
        "    return df\n",
        "\n",
        "\n",
        "def plot_in_sample_hidden_states(hmm_model, df):\n",
        "    \"\"\"\n",
        "    Plot the adjusted closing prices masked by \n",
        "    the in-sample hidden states as a mechanism\n",
        "    to understand the market regimes.\n",
        "    \"\"\"\n",
        "    # Predict the hidden states array\n",
        "    hidden_states = hmm_model.predict(rets)\n",
        "    # Create the correctly formatted plot\n",
        "    fig, axs = plt.subplots(\n",
        "        hmm_model.n_components, \n",
        "        sharex=True, sharey=True\n",
        "    )\n",
        "    colours = cm.rainbow(\n",
        "        np.linspace(0, 1, hmm_model.n_components)\n",
        "    )\n",
        "    for i, (ax, colour) in enumerate(zip(axs, colours)):\n",
        "        mask = hidden_states == i\n",
        "        ax.plot_date(\n",
        "            df.index[mask], \n",
        "            df[\"Adj Close\"][mask], \n",
        "            \".\", linestyle='none', \n",
        "            c=colour\n",
        "        )\n",
        "        ax.set_title(\"Hidden State #%s\" % i)\n",
        "        ax.xaxis.set_major_locator(YearLocator())\n",
        "        ax.xaxis.set_minor_locator(MonthLocator())\n",
        "        ax.grid(True)\n",
        "    plt.show()\n"
      ],
      "execution_count": null,
      "outputs": []
    },
    {
      "cell_type": "code",
      "metadata": {
        "colab": {
          "base_uri": "https://localhost:8080/",
          "height": 335
        },
        "id": "J6Z0seu2U8L_",
        "outputId": "e2d49694-4ff7-4d78-c28e-0b825f408ba0"
      },
      "source": [
        "if __name__ == \"__main__\":\n",
        "    # Hides deprecation warnings for sklearn\n",
        "    warnings.filterwarnings(\"ignore\")\n",
        "\n",
        "    # Create the SPY dataframe from the Yahoo Finance CSV\n",
        "    # and correctly format the returns for use in the HMM\n",
        "    csv_filepath = \"SPY.csv\"\n",
        "    pickle_path = \"hmm_model_spy.pkl\"\n",
        "    end_date = datetime.datetime(2012, 12, 1)\n",
        "    spy = obtain_prices_df(csv_filepath, end_date)\n",
        "    rets = np.column_stack([spy[\"Returns\"]])\n",
        "\n",
        "    # Create the Gaussian Hidden markov Model and fit it\n",
        "    # to the SPY returns data, outputting a score\n",
        "    hmm_model = GaussianHMM(\n",
        "        n_components=3, covariance_type=\"full\", n_iter=1000\n",
        "    ).fit(rets)\n",
        "    print(\"Model Score:\", hmm_model.score(rets))\n",
        "  \n",
        "    # Plot the in sample hidden states closing values\n",
        "    plot_in_sample_hidden_states(hmm_model, spy)\n",
        "\n",
        "    print(\"Pickling HMM model...\")\n",
        "    pickle.dump(hmm_model, open(pickle_path, \"wb\"))\n",
        "    print(\"...HMM model pickled.\")"
      ],
      "execution_count": null,
      "outputs": [
        {
          "output_type": "stream",
          "text": [
            "Model Score: 15937.71115264345\n"
          ],
          "name": "stdout"
        },
        {
          "output_type": "display_data",
          "data": {
            "image/png": "[encoded data removed]",
            "text/plain": [
              "<Figure size 432x288 with 3 Axes>"
            ]
          },
          "metadata": {
            "tags": [],
            "needs_background": "light"
          }
        },
        {
          "output_type": "stream",
          "text": [
            "Pickling HMM model...\n",
            "...HMM model pickled.\n"
          ],
          "name": "stdout"
        }
      ]
    },
    {
      "cell_type": "code",
      "metadata": {
        "colab": {
          "base_uri": "https://localhost:8080/",
          "height": 477
        },
        "id": "O52iT4dDaDLr",
        "outputId": "15f5dea1-5834-4202-98a2-ebfe7ecd08f4"
      },
      "source": [
        "spy"
      ],
      "execution_count": null,
      "outputs": [
        {
          "output_type": "execute_result",
          "data": {
            "text/html": [
              "<div>\n",
              "<style scoped>\n",
              "    .dataframe tbody tr th:only-of-type {\n",
              "        vertical-align: middle;\n",
              "    }\n",
              "\n",
              "    .dataframe tbody tr th {\n",
              "        vertical-align: top;\n",
              "    }\n",
              "\n",
              "    .dataframe thead th {\n",
              "        text-align: right;\n",
              "    }\n",
              "</style>\n",
              "<table border=\"1\" class=\"dataframe\">\n",
              "  <thead>\n",
              "    <tr style=\"text-align: right;\">\n",
              "      <th></th>\n",
              "      <th>Open</th>\n",
              "      <th>High</th>\n",
              "      <th>Low</th>\n",
              "      <th>Close</th>\n",
              "      <th>Adj Close</th>\n",
              "      <th>Volume</th>\n",
              "      <th>Returns</th>\n",
              "    </tr>\n",
              "    <tr>\n",
              "      <th>Date</th>\n",
              "      <th></th>\n",
              "      <th></th>\n",
              "      <th></th>\n",
              "      <th></th>\n",
              "      <th></th>\n",
              "      <th></th>\n",
              "      <th></th>\n",
              "    </tr>\n",
              "  </thead>\n",
              "  <tbody>\n",
              "    <tr>\n",
              "      <th>1993-02-02</th>\n",
              "      <td>44.218750</td>\n",
              "      <td>44.375000</td>\n",
              "      <td>44.125000</td>\n",
              "      <td>44.343750</td>\n",
              "      <td>26.123499</td>\n",
              "      <td>201300</td>\n",
              "      <td>0.002118</td>\n",
              "    </tr>\n",
              "    <tr>\n",
              "      <th>1993-02-03</th>\n",
              "      <td>44.406250</td>\n",
              "      <td>44.843750</td>\n",
              "      <td>44.375000</td>\n",
              "      <td>44.812500</td>\n",
              "      <td>26.399649</td>\n",
              "      <td>529400</td>\n",
              "      <td>0.010571</td>\n",
              "    </tr>\n",
              "    <tr>\n",
              "      <th>1993-02-04</th>\n",
              "      <td>44.968750</td>\n",
              "      <td>45.093750</td>\n",
              "      <td>44.468750</td>\n",
              "      <td>45.000000</td>\n",
              "      <td>26.510111</td>\n",
              "      <td>531500</td>\n",
              "      <td>0.004184</td>\n",
              "    </tr>\n",
              "    <tr>\n",
              "      <th>1993-02-05</th>\n",
              "      <td>44.968750</td>\n",
              "      <td>45.062500</td>\n",
              "      <td>44.718750</td>\n",
              "      <td>44.968750</td>\n",
              "      <td>26.491711</td>\n",
              "      <td>492100</td>\n",
              "      <td>-0.000694</td>\n",
              "    </tr>\n",
              "    <tr>\n",
              "      <th>1993-02-08</th>\n",
              "      <td>44.968750</td>\n",
              "      <td>45.125000</td>\n",
              "      <td>44.906250</td>\n",
              "      <td>44.968750</td>\n",
              "      <td>26.491711</td>\n",
              "      <td>596100</td>\n",
              "      <td>0.000000</td>\n",
              "    </tr>\n",
              "    <tr>\n",
              "      <th>...</th>\n",
              "      <td>...</td>\n",
              "      <td>...</td>\n",
              "      <td>...</td>\n",
              "      <td>...</td>\n",
              "      <td>...</td>\n",
              "      <td>...</td>\n",
              "      <td>...</td>\n",
              "    </tr>\n",
              "    <tr>\n",
              "      <th>2012-11-26</th>\n",
              "      <td>140.649994</td>\n",
              "      <td>141.360001</td>\n",
              "      <td>140.190002</td>\n",
              "      <td>141.050003</td>\n",
              "      <td>119.393944</td>\n",
              "      <td>100124400</td>\n",
              "      <td>-0.002122</td>\n",
              "    </tr>\n",
              "    <tr>\n",
              "      <th>2012-11-27</th>\n",
              "      <td>140.910004</td>\n",
              "      <td>141.389999</td>\n",
              "      <td>140.240005</td>\n",
              "      <td>140.330002</td>\n",
              "      <td>118.784500</td>\n",
              "      <td>128646200</td>\n",
              "      <td>-0.005104</td>\n",
              "    </tr>\n",
              "    <tr>\n",
              "      <th>2012-11-28</th>\n",
              "      <td>139.759995</td>\n",
              "      <td>141.539993</td>\n",
              "      <td>139.000000</td>\n",
              "      <td>141.460007</td>\n",
              "      <td>119.740990</td>\n",
              "      <td>177086500</td>\n",
              "      <td>0.008052</td>\n",
              "    </tr>\n",
              "    <tr>\n",
              "      <th>2012-11-29</th>\n",
              "      <td>141.990005</td>\n",
              "      <td>142.509995</td>\n",
              "      <td>141.369995</td>\n",
              "      <td>142.119995</td>\n",
              "      <td>120.299629</td>\n",
              "      <td>151085900</td>\n",
              "      <td>0.004665</td>\n",
              "    </tr>\n",
              "    <tr>\n",
              "      <th>2012-11-30</th>\n",
              "      <td>142.139999</td>\n",
              "      <td>142.419998</td>\n",
              "      <td>141.660004</td>\n",
              "      <td>142.149994</td>\n",
              "      <td>120.325035</td>\n",
              "      <td>136568300</td>\n",
              "      <td>0.000211</td>\n",
              "    </tr>\n",
              "  </tbody>\n",
              "</table>\n",
              "<p>4996 rows × 7 columns</p>\n",
              "</div>"
            ],
            "text/plain": [
              "                  Open        High         Low  ...   Adj Close     Volume   Returns\n",
              "Date                                            ...                                 \n",
              "1993-02-02   44.218750   44.375000   44.125000  ...   26.123499     201300  0.002118\n",
              "1993-02-03   44.406250   44.843750   44.375000  ...   26.399649     529400  0.010571\n",
              "1993-02-04   44.968750   45.093750   44.468750  ...   26.510111     531500  0.004184\n",
              "1993-02-05   44.968750   45.062500   44.718750  ...   26.491711     492100 -0.000694\n",
              "1993-02-08   44.968750   45.125000   44.906250  ...   26.491711     596100  0.000000\n",
              "...                ...         ...         ...  ...         ...        ...       ...\n",
              "2012-11-26  140.649994  141.360001  140.190002  ...  119.393944  100124400 -0.002122\n",
              "2012-11-27  140.910004  141.389999  140.240005  ...  118.784500  128646200 -0.005104\n",
              "2012-11-28  139.759995  141.539993  139.000000  ...  119.740990  177086500  0.008052\n",
              "2012-11-29  141.990005  142.509995  141.369995  ...  120.299629  151085900  0.004665\n",
              "2012-11-30  142.139999  142.419998  141.660004  ...  120.325035  136568300  0.000211\n",
              "\n",
              "[4996 rows x 7 columns]"
            ]
          },
          "metadata": {
            "tags": []
          },
          "execution_count": 43
        }
      ]
    },
    {
      "cell_type": "code",
      "metadata": {
        "id": "rxHDCy33fFhm"
      },
      "source": [
        ""
      ],
      "execution_count": null,
      "outputs": []
    }
  ]
}